{
 "cells": [
  {
   "cell_type": "code",
   "execution_count": 1,
   "metadata": {},
   "outputs": [],
   "source": [
    "import numpy as np\n",
    "import pandas as pd"
   ]
  },
  {
   "cell_type": "code",
   "execution_count": 2,
   "metadata": {},
   "outputs": [
    {
     "data": {
      "text/html": [
       "<div>\n",
       "<style scoped>\n",
       "    .dataframe tbody tr th:only-of-type {\n",
       "        vertical-align: middle;\n",
       "    }\n",
       "\n",
       "    .dataframe tbody tr th {\n",
       "        vertical-align: top;\n",
       "    }\n",
       "\n",
       "    .dataframe thead th {\n",
       "        text-align: right;\n",
       "    }\n",
       "</style>\n",
       "<table border=\"1\" class=\"dataframe\">\n",
       "  <thead>\n",
       "    <tr style=\"text-align: right;\">\n",
       "      <th></th>\n",
       "      <th>year</th>\n",
       "      <th>month</th>\n",
       "      <th>day</th>\n",
       "      <th>dep_time</th>\n",
       "      <th>sched_dep_time</th>\n",
       "      <th>dep_delay</th>\n",
       "      <th>arr_time</th>\n",
       "      <th>sched_arr_time</th>\n",
       "      <th>arr_delay</th>\n",
       "      <th>carrier</th>\n",
       "      <th>flight</th>\n",
       "      <th>tailnum</th>\n",
       "      <th>origin</th>\n",
       "      <th>dest</th>\n",
       "      <th>air_time</th>\n",
       "      <th>distance</th>\n",
       "      <th>hour</th>\n",
       "      <th>minute</th>\n",
       "      <th>time_hour</th>\n",
       "    </tr>\n",
       "  </thead>\n",
       "  <tbody>\n",
       "    <tr>\n",
       "      <th>0</th>\n",
       "      <td>2013</td>\n",
       "      <td>1</td>\n",
       "      <td>1</td>\n",
       "      <td>517.0</td>\n",
       "      <td>515</td>\n",
       "      <td>2.0</td>\n",
       "      <td>830.0</td>\n",
       "      <td>819</td>\n",
       "      <td>11.0</td>\n",
       "      <td>UA</td>\n",
       "      <td>1545</td>\n",
       "      <td>N14228</td>\n",
       "      <td>EWR</td>\n",
       "      <td>IAH</td>\n",
       "      <td>227.0</td>\n",
       "      <td>1400</td>\n",
       "      <td>5</td>\n",
       "      <td>15</td>\n",
       "      <td>2013-01-01 05:00:00</td>\n",
       "    </tr>\n",
       "    <tr>\n",
       "      <th>1</th>\n",
       "      <td>2013</td>\n",
       "      <td>1</td>\n",
       "      <td>1</td>\n",
       "      <td>533.0</td>\n",
       "      <td>529</td>\n",
       "      <td>4.0</td>\n",
       "      <td>850.0</td>\n",
       "      <td>830</td>\n",
       "      <td>20.0</td>\n",
       "      <td>UA</td>\n",
       "      <td>1714</td>\n",
       "      <td>N24211</td>\n",
       "      <td>LGA</td>\n",
       "      <td>IAH</td>\n",
       "      <td>227.0</td>\n",
       "      <td>1416</td>\n",
       "      <td>5</td>\n",
       "      <td>29</td>\n",
       "      <td>2013-01-01 05:00:00</td>\n",
       "    </tr>\n",
       "    <tr>\n",
       "      <th>2</th>\n",
       "      <td>2013</td>\n",
       "      <td>1</td>\n",
       "      <td>1</td>\n",
       "      <td>542.0</td>\n",
       "      <td>540</td>\n",
       "      <td>2.0</td>\n",
       "      <td>923.0</td>\n",
       "      <td>850</td>\n",
       "      <td>33.0</td>\n",
       "      <td>AA</td>\n",
       "      <td>1141</td>\n",
       "      <td>N619AA</td>\n",
       "      <td>JFK</td>\n",
       "      <td>MIA</td>\n",
       "      <td>160.0</td>\n",
       "      <td>1089</td>\n",
       "      <td>5</td>\n",
       "      <td>40</td>\n",
       "      <td>2013-01-01 05:00:00</td>\n",
       "    </tr>\n",
       "    <tr>\n",
       "      <th>3</th>\n",
       "      <td>2013</td>\n",
       "      <td>1</td>\n",
       "      <td>1</td>\n",
       "      <td>544.0</td>\n",
       "      <td>545</td>\n",
       "      <td>-1.0</td>\n",
       "      <td>1004.0</td>\n",
       "      <td>1022</td>\n",
       "      <td>-18.0</td>\n",
       "      <td>B6</td>\n",
       "      <td>725</td>\n",
       "      <td>N804JB</td>\n",
       "      <td>JFK</td>\n",
       "      <td>BQN</td>\n",
       "      <td>183.0</td>\n",
       "      <td>1576</td>\n",
       "      <td>5</td>\n",
       "      <td>45</td>\n",
       "      <td>2013-01-01 05:00:00</td>\n",
       "    </tr>\n",
       "    <tr>\n",
       "      <th>4</th>\n",
       "      <td>2013</td>\n",
       "      <td>1</td>\n",
       "      <td>1</td>\n",
       "      <td>554.0</td>\n",
       "      <td>600</td>\n",
       "      <td>-6.0</td>\n",
       "      <td>812.0</td>\n",
       "      <td>837</td>\n",
       "      <td>-25.0</td>\n",
       "      <td>DL</td>\n",
       "      <td>461</td>\n",
       "      <td>N668DN</td>\n",
       "      <td>LGA</td>\n",
       "      <td>ATL</td>\n",
       "      <td>116.0</td>\n",
       "      <td>762</td>\n",
       "      <td>6</td>\n",
       "      <td>0</td>\n",
       "      <td>2013-01-01 06:00:00</td>\n",
       "    </tr>\n",
       "  </tbody>\n",
       "</table>\n",
       "</div>"
      ],
      "text/plain": [
       "   year  month  day  dep_time  sched_dep_time  dep_delay  arr_time  \\\n",
       "0  2013      1    1     517.0             515        2.0     830.0   \n",
       "1  2013      1    1     533.0             529        4.0     850.0   \n",
       "2  2013      1    1     542.0             540        2.0     923.0   \n",
       "3  2013      1    1     544.0             545       -1.0    1004.0   \n",
       "4  2013      1    1     554.0             600       -6.0     812.0   \n",
       "\n",
       "   sched_arr_time  arr_delay carrier  flight tailnum origin dest  air_time  \\\n",
       "0             819       11.0      UA    1545  N14228    EWR  IAH     227.0   \n",
       "1             830       20.0      UA    1714  N24211    LGA  IAH     227.0   \n",
       "2             850       33.0      AA    1141  N619AA    JFK  MIA     160.0   \n",
       "3            1022      -18.0      B6     725  N804JB    JFK  BQN     183.0   \n",
       "4             837      -25.0      DL     461  N668DN    LGA  ATL     116.0   \n",
       "\n",
       "   distance  hour  minute            time_hour  \n",
       "0      1400     5      15  2013-01-01 05:00:00  \n",
       "1      1416     5      29  2013-01-01 05:00:00  \n",
       "2      1089     5      40  2013-01-01 05:00:00  \n",
       "3      1576     5      45  2013-01-01 05:00:00  \n",
       "4       762     6       0  2013-01-01 06:00:00  "
      ]
     },
     "execution_count": 2,
     "metadata": {},
     "output_type": "execute_result"
    }
   ],
   "source": [
    "flights = pd.read_csv('flights.csv')\n",
    "flights.head()"
   ]
  },
  {
   "cell_type": "markdown",
   "metadata": {},
   "source": [
    "1. How many instances (observations) are in the dataset?"
   ]
  },
  {
   "cell_type": "code",
   "execution_count": 23,
   "metadata": {},
   "outputs": [
    {
     "data": {
      "text/plain": [
       "336776"
      ]
     },
     "execution_count": 23,
     "metadata": {},
     "output_type": "execute_result"
    }
   ],
   "source": [
    "flights.shape[0]"
   ]
  },
  {
   "cell_type": "markdown",
   "metadata": {},
   "source": [
    "2. Missing values questions:\n",
    "    a. Which two variables have the most missing values?\n",
    "    b. How many missing values are there for these variables?"
   ]
  },
  {
   "cell_type": "code",
   "execution_count": 22,
   "metadata": {},
   "outputs": [
    {
     "data": {
      "text/plain": [
       "arr_delay    9430\n",
       "air_time     9430\n",
       "dtype: int64"
      ]
     },
     "execution_count": 22,
     "metadata": {},
     "output_type": "execute_result"
    }
   ],
   "source": [
    "flights.isnull().sum().nlargest(2)"
   ]
  },
  {
   "cell_type": "markdown",
   "metadata": {},
   "source": [
    "3. What is the average (non-missing) air_time for the flights in the dataset?"
   ]
  },
  {
   "cell_type": "code",
   "execution_count": 21,
   "metadata": {},
   "outputs": [
    {
     "data": {
      "text/plain": [
       "150.68646019807787"
      ]
     },
     "execution_count": 21,
     "metadata": {},
     "output_type": "execute_result"
    }
   ],
   "source": [
    "flights['air_time'].mean() # automatically ignores missing values"
   ]
  },
  {
   "cell_type": "markdown",
   "metadata": {},
   "source": [
    "4. How many unique dest values (destinations) are in the dataset?"
   ]
  },
  {
   "cell_type": "code",
   "execution_count": 20,
   "metadata": {},
   "outputs": [
    {
     "data": {
      "text/plain": [
       "105"
      ]
     },
     "execution_count": 20,
     "metadata": {},
     "output_type": "execute_result"
    }
   ],
   "source": [
    "flights['dest'].nunique()"
   ]
  },
  {
   "cell_type": "markdown",
   "metadata": {},
   "source": [
    "5. What are the five most common destinations for the flights in the dataset (in order)?\n",
    "    a. (most common)\n",
    "    b.\n",
    "    c.\n",
    "    d.\n",
    "    e. (fifth most common)"
   ]
  },
  {
   "cell_type": "code",
   "execution_count": 19,
   "metadata": {},
   "outputs": [
    {
     "data": {
      "text/plain": [
       "dest\n",
       "ORD    17283\n",
       "ATL    17215\n",
       "LAX    16174\n",
       "BOS    15508\n",
       "MCO    14082\n",
       "Name: count, dtype: int64"
      ]
     },
     "execution_count": 19,
     "metadata": {},
     "output_type": "execute_result"
    }
   ],
   "source": [
    "flights['dest'].value_counts().head(5)"
   ]
  },
  {
   "cell_type": "markdown",
   "metadata": {},
   "source": [
    "6. What is the maximum distance (in miles) flown in the dataset?"
   ]
  },
  {
   "cell_type": "code",
   "execution_count": 7,
   "metadata": {},
   "outputs": [
    {
     "data": {
      "text/plain": [
       "4983"
      ]
     },
     "execution_count": 7,
     "metadata": {},
     "output_type": "execute_result"
    }
   ],
   "source": [
    "flights['distance'].max()"
   ]
  },
  {
   "cell_type": "markdown",
   "metadata": {},
   "source": [
    "7. How many flights in the dataset flew the maximum distance?"
   ]
  },
  {
   "cell_type": "code",
   "execution_count": 17,
   "metadata": {},
   "outputs": [
    {
     "data": {
      "text/plain": [
       "342"
      ]
     },
     "execution_count": 17,
     "metadata": {},
     "output_type": "execute_result"
    }
   ],
   "source": [
    "(flights['distance'] == 4983).sum()"
   ]
  },
  {
   "cell_type": "markdown",
   "metadata": {},
   "source": [
    "8. Create a variable that indicates whether or not a flight was cancelled based on whether or not the air_time variable is missing.\n",
    "    a. What month has the highest proportion of cancelled flights? (Use the two digit month number - for example, if the answer is January, use \"01\" in the answer file)\n",
    "    b. What is the proportion from (a.)?\n",
    "    c. What origin has the lowest proportion of cancelled flights?\n",
    "    d. What is the proportion from (c.)?"
   ]
  },
  {
   "cell_type": "code",
   "execution_count": 27,
   "metadata": {},
   "outputs": [
    {
     "name": "stdout",
     "output_type": "stream",
     "text": [
      "month\n",
      "2    0.053705\n",
      "Name: cancelled, dtype: float64\n"
     ]
    }
   ],
   "source": [
    "flights['cancelled'] = flights['air_time'].isnull()\n",
    "monthly_flight_cancellations = flights.groupby('month')['cancelled'].mean()\n",
    "print(monthly_flight_cancellations.nlargest(1))"
   ]
  },
  {
   "cell_type": "code",
   "execution_count": 28,
   "metadata": {},
   "outputs": [
    {
     "name": "stdout",
     "output_type": "stream",
     "text": [
      "origin\n",
      "JFK    0.01977\n",
      "Name: cancelled, dtype: float64\n"
     ]
    }
   ],
   "source": [
    "origin_flight_cancellations = flights.groupby('origin')['cancelled'].mean()\n",
    "print(origin_flight_cancellations.nsmallest(1))"
   ]
  },
  {
   "cell_type": "markdown",
   "metadata": {},
   "source": [
    "9. Arrival delay questions:\n",
    "    a. Which date has the largest average arrival delay (arr_delay)? (Use the format MM/DD - for example, if the answer is Jan 9, use \"01/09\" in the answer file)\n",
    "    b. What is the average from (a.) in minutes?"
   ]
  },
  {
   "cell_type": "code",
   "execution_count": 62,
   "metadata": {},
   "outputs": [
    {
     "data": {
      "text/plain": [
       "month         3.000000\n",
       "day           8.000000\n",
       "arr_delay    85.862155\n",
       "Name: 66, dtype: float64"
      ]
     },
     "execution_count": 62,
     "metadata": {},
     "output_type": "execute_result"
    }
   ],
   "source": [
    "# single largest delay, not the average\n",
    "# flights[flights['arr_delay'] == flights['arr_delay'].max()][['month', 'day', 'arr_delay']]\n",
    "avg_arr_delay_by_date = flights.groupby(['month', 'day'])['arr_delay'].mean().reset_index()\n",
    "max_avg_delay_row = avg_arr_delay_by_date.loc[avg_arr_delay_by_date['arr_delay'].idxmax()]\n",
    "max_avg_delay_row"
   ]
  },
  {
   "cell_type": "markdown",
   "metadata": {},
   "source": [
    "10. Each plane in the dataset has a unique tailnum.\n",
    "    a. What is the tailnum of the most common plane in the dataset?\n",
    "    b. How many times is the plane from (a.) in the dataset?\n",
    "    c. What is the average distance that the plane from (a.) traveled (in miles)?\n",
    "    d. What is the most common route (origin to destination) traveled for the plane from (a.)? (Use the format \"ORG-DST\", for example \"JFK-SLC\")"
   ]
  },
  {
   "cell_type": "code",
   "execution_count": 36,
   "metadata": {},
   "outputs": [
    {
     "data": {
      "text/plain": [
       "tailnum\n",
       "N725MQ    575\n",
       "Name: count, dtype: int64"
      ]
     },
     "execution_count": 36,
     "metadata": {},
     "output_type": "execute_result"
    }
   ],
   "source": [
    "flights['tailnum'].value_counts().head(1)"
   ]
  },
  {
   "cell_type": "code",
   "execution_count": 37,
   "metadata": {},
   "outputs": [
    {
     "data": {
      "text/plain": [
       "558.6052173913043"
      ]
     },
     "execution_count": 37,
     "metadata": {},
     "output_type": "execute_result"
    }
   ],
   "source": [
    "flights[flights['tailnum'] == 'N725MQ']['distance'].mean()"
   ]
  },
  {
   "cell_type": "code",
   "execution_count": 40,
   "metadata": {},
   "outputs": [
    {
     "data": {
      "text/plain": [
       "route\n",
       "LGA-RDU    173\n",
       "Name: count, dtype: int64"
      ]
     },
     "execution_count": 40,
     "metadata": {},
     "output_type": "execute_result"
    }
   ],
   "source": [
    "filtered_flights = flights[flights['tailnum'] == 'N725MQ'].copy()\n",
    "filtered_flights['route'] = filtered_flights['origin'] + '-' + filtered_flights['dest']\n",
    "filtered_flights['route'].value_counts().head(1)"
   ]
  },
  {
   "cell_type": "markdown",
   "metadata": {},
   "source": [
    "Questions 11-16 will use one or more other datasets in the Flights folder, including possibly flights.csv"
   ]
  },
  {
   "cell_type": "code",
   "execution_count": 42,
   "metadata": {},
   "outputs": [],
   "source": [
    "planes = pd.read_csv('planes.csv')\n",
    "airlines = pd.read_csv('airlines.csv')\n",
    "airports = pd.read_csv('airports.csv')\n",
    "weather = pd.read_csv('weather.csv')"
   ]
  },
  {
   "cell_type": "markdown",
   "metadata": {},
   "source": [
    "11. How many planes have a missing year of manufacture?"
   ]
  },
  {
   "cell_type": "code",
   "execution_count": 43,
   "metadata": {},
   "outputs": [
    {
     "data": {
      "text/plain": [
       "70"
      ]
     },
     "execution_count": 43,
     "metadata": {},
     "output_type": "execute_result"
    }
   ],
   "source": [
    "planes['year'].isnull().sum()"
   ]
  },
  {
   "cell_type": "markdown",
   "metadata": {},
   "source": [
    "12.  a. Of the planes in the flights, what is the tail number of the oldest plane?\n",
    "     b. How old was the plane from part (a) in 2013 in years?"
   ]
  },
  {
   "cell_type": "code",
   "execution_count": 48,
   "metadata": {},
   "outputs": [
    {
     "name": "stdout",
     "output_type": "stream",
     "text": [
      "N381AA\n",
      "57.0\n"
     ]
    }
   ],
   "source": [
    "planes = planes.rename(columns={'year': 'make_year'})\n",
    "flights_and_planes = pd.merge(flights, planes, on='tailnum', how='inner')\n",
    "oldest_plane_row = flights_and_planes.loc[flights_and_planes['make_year'].idxmin()]\n",
    "oldest_plane_tailnum = oldest_plane_row['tailnum']\n",
    "print(oldest_plane_tailnum)\n",
    "print(2013-oldest_plane_row['make_year'])"
   ]
  },
  {
   "cell_type": "markdown",
   "metadata": {},
   "source": [
    "13. Create a DataFrame with 3 columns: \"carrier_name\", \"carrier\", \"avg_plane_age\".\n",
    "\"carrier_name\" is the name of the carrier (i.e., \"Delta Air Lines Inc.\")\n",
    "\"carrier\" is the two letter carrier abbreviation (i.e., \"DL\")\n",
    "\"avg_plane_age\" is the average age of the planes in the flights data by carrier\n",
    "Sort your the DataFrame by \"avg_plane_age\" so that the airline with the youngest average plane age is listed first.\n",
    "Ensure the index goes from 0-15 after you've sorted\n",
    "Save the final DataFrame as csv file called \"avg_carrier_age.csv\" and include index=None so the index column is not saved as part of the csv\n",
    "Include the avg_carrier_age.csv in your GitHub repository\n",
    "On the answers.txt file, report the age, carrier, and carrier_name of the first two rows.\n",
    "(a) Row 1 age\n",
    "(b) Row 1 carrier\n",
    "(c) Row 1 carrier_name\n",
    "(d) Row 2 age\n",
    "(e) Row 2 carrier\n",
    "(f) Row 2 carrier_name"
   ]
  },
  {
   "cell_type": "code",
   "execution_count": 80,
   "metadata": {},
   "outputs": [
    {
     "data": {
      "text/html": [
       "<div>\n",
       "<style scoped>\n",
       "    .dataframe tbody tr th:only-of-type {\n",
       "        vertical-align: middle;\n",
       "    }\n",
       "\n",
       "    .dataframe tbody tr th {\n",
       "        vertical-align: top;\n",
       "    }\n",
       "\n",
       "    .dataframe thead th {\n",
       "        text-align: right;\n",
       "    }\n",
       "</style>\n",
       "<table border=\"1\" class=\"dataframe\">\n",
       "  <thead>\n",
       "    <tr style=\"text-align: right;\">\n",
       "      <th></th>\n",
       "      <th>carrier</th>\n",
       "      <th>carrier_name</th>\n",
       "      <th>avg_plane_age</th>\n",
       "    </tr>\n",
       "  </thead>\n",
       "  <tbody>\n",
       "    <tr>\n",
       "      <th>0</th>\n",
       "      <td>HA</td>\n",
       "      <td>Hawaiian Airlines Inc.</td>\n",
       "      <td>1.230769</td>\n",
       "    </tr>\n",
       "    <tr>\n",
       "      <th>1</th>\n",
       "      <td>VX</td>\n",
       "      <td>Virgin America</td>\n",
       "      <td>4.288462</td>\n",
       "    </tr>\n",
       "  </tbody>\n",
       "</table>\n",
       "</div>"
      ],
      "text/plain": [
       "  carrier            carrier_name  avg_plane_age\n",
       "0      HA  Hawaiian Airlines Inc.       1.230769\n",
       "1      VX          Virgin America       4.288462"
      ]
     },
     "execution_count": 80,
     "metadata": {},
     "output_type": "execute_result"
    }
   ],
   "source": [
    "airlines = airlines.rename(columns={'name': 'carrier_name'})\n",
    "\n",
    "flights_planes_and_airlines = pd.merge(flights_and_planes, airlines, on='carrier', how='inner').drop_duplicates() # new df with all necessary info\n",
    "flights_planes_and_airlines['plane_age'] = 2013 - flights_planes_and_airlines['make_year'] # find all plane ages\n",
    "flights_planes_and_airlines = flights_planes_and_airlines.drop_duplicates(subset='tailnum')\n",
    "avg_carrier_age = flights_planes_and_airlines.groupby(['carrier', 'carrier_name'])['plane_age'].mean().reset_index() # find average ages\n",
    "avg_carrier_age = avg_carrier_age.rename(columns={'plane_age': 'avg_plane_age'}) # rename column\n",
    "avg_carrier_age = avg_carrier_age.sort_values(by='avg_plane_age').reset_index(drop=True) # sort by ages\n",
    "avg_carrier_age.to_csv('avg_carrier_age.csv', index=False) # send to csv\n",
    "\n",
    "avg_carrier_age.head(2) # get age, carrier, and carrier_name of the first two rows."
   ]
  },
  {
   "cell_type": "markdown",
   "metadata": {},
   "source": [
    "14. What is the correlation coefficient between the number of seats on a plane and the average distance it traveled?"
   ]
  },
  {
   "cell_type": "code",
   "execution_count": 56,
   "metadata": {},
   "outputs": [
    {
     "data": {
      "text/plain": [
       "0.545113435221816"
      ]
     },
     "execution_count": 56,
     "metadata": {},
     "output_type": "execute_result"
    }
   ],
   "source": [
    "avg_distance_by_plane = flights.groupby('tailnum')['distance'].mean().reset_index()\n",
    "avg_distance_by_plane.rename(columns={'distance': 'avg_distance'}, inplace=True)\n",
    "\n",
    "merged_df = pd.merge(avg_distance_by_plane, planes[['tailnum', 'seats']], on='tailnum', how='inner')\n",
    "merged_df['seats'].corr(merged_df['avg_distance'])"
   ]
  },
  {
   "cell_type": "markdown",
   "metadata": {},
   "source": [
    "15. How many days had precipitation in the New York area in 2013? (That is, how many days had non-zero precipitation at at least one of the airports in the dataset during at least one of the hours.)"
   ]
  },
  {
   "cell_type": "code",
   "execution_count": 108,
   "metadata": {},
   "outputs": [
    {
     "data": {
      "text/plain": [
       "141"
      ]
     },
     "execution_count": 108,
     "metadata": {},
     "output_type": "execute_result"
    }
   ],
   "source": [
    "total_precip_per_days = weather.groupby(['month', 'day'])['precip'].sum().reset_index()\n",
    "precip_days_above_zero = total_precip_per_days[total_precip_per_days['precip'] > 0].reset_index(drop=True)\n",
    "num_days_with_precip = precip_days_above_zero[['month', 'day']].drop_duplicates().shape[0]\n",
    "num_days_with_precip"
   ]
  },
  {
   "cell_type": "markdown",
   "metadata": {},
   "source": [
    "16. Using only days with precipitation greater than zero, what is the correlation between total precipitation and average minutes of departure delay?\n",
    "    That is, using only the days with precipitation (that you found in problem 15):\n",
    "        Compute the total precipitation for the day (across hours and airports)\n",
    "        Compute the average departure delay in minutes for the day (across hours and airports)\n",
    "        Compute the correlation between total precipitation and average departure delay"
   ]
  },
  {
   "cell_type": "code",
   "execution_count": 111,
   "metadata": {},
   "outputs": [
    {
     "name": "stdout",
     "output_type": "stream",
     "text": [
      "0.2916299956212592\n"
     ]
    }
   ],
   "source": [
    "avg_delay = flights.groupby(['month', 'day'])['dep_delay'].mean().reset_index()\n",
    "avg_delay.rename(columns={'dep_delay': 'avg_dep_delay'}, inplace=True)\n",
    "precip_delay_merged = pd.merge(precip_days_above_zero, avg_delay, on=['month', 'day'], how='inner')\n",
    "\n",
    "correlation = precip_delay_merged['precip'].corr(precip_delay_merged['avg_dep_delay'])\n",
    "print(correlation)"
   ]
  }
 ],
 "metadata": {
  "kernelspec": {
   "display_name": "stat386",
   "language": "python",
   "name": "python3"
  },
  "language_info": {
   "codemirror_mode": {
    "name": "ipython",
    "version": 3
   },
   "file_extension": ".py",
   "mimetype": "text/x-python",
   "name": "python",
   "nbconvert_exporter": "python",
   "pygments_lexer": "ipython3",
   "version": "3.12.5"
  }
 },
 "nbformat": 4,
 "nbformat_minor": 2
}
